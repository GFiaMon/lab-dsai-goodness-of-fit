{
 "cells": [
  {
   "cell_type": "markdown",
   "metadata": {},
   "source": [
    "# Lab | Goodness of Fit and Independence Tests\n",
    "\n",
    "## Question 1\n",
    "A researcher gathers information about the patterns of Physical Activity of children in the fifth grade of primary school of a public school. He defines three categories of physical activity (Low, Medium, High). He also inquires about the regular consumption of sugary drinks at school, and defines two categories (Yes = consumed, No = not consumed). We would like to evaluate if there is an association between patterns of physical activity and the consumption of sugary drinks for the children of this school, at a level of 5% significance. The results are in the following table: \n",
    "\n",
    "![](https://education-team-2020.s3.eu-west-1.amazonaws.com/ds-ai/lab-goodness-of-fit/table4.png)"
   ]
  },
  {
   "cell_type": "markdown",
   "metadata": {},
   "source": [
    "- Null Hypothesis (H₀):\n",
    "\"Physical activity level and sugary drink consumption are independent (no association).\"\n",
    "\n",
    "- Alternative Hypothesis (H₁):\n",
    "\"Physical activity level and sugary drink consumption are dependent (there is an association).\""
   ]
  },
  {
   "cell_type": "code",
   "execution_count": 5,
   "metadata": {},
   "outputs": [
    {
     "name": "stdout",
     "output_type": "stream",
     "text": [
      "Observed Contingency Table:\n",
      "[[32 12]\n",
      " [14 22]\n",
      " [ 6  9]]\n"
     ]
    }
   ],
   "source": [
    "import numpy as np\n",
    "import pandas as pd\n",
    "\n",
    "# Observed data (3x2 table)\n",
    "observed = np.array([\n",
    "    [32, 12],  # Low activity\n",
    "    [14, 22],  # Medium activity\n",
    "    [6, 9]     # High activity\n",
    "])\n",
    "print(\"Observed Contingency Table:\")\n",
    "print(observed)"
   ]
  },
  {
   "cell_type": "code",
   "execution_count": 14,
   "metadata": {},
   "outputs": [
    {
     "name": "stdout",
     "output_type": "stream",
     "text": [
      "Contingency Table:\n"
     ]
    },
    {
     "data": {
      "text/html": [
       "<div>\n",
       "<style scoped>\n",
       "    .dataframe tbody tr th:only-of-type {\n",
       "        vertical-align: middle;\n",
       "    }\n",
       "\n",
       "    .dataframe tbody tr th {\n",
       "        vertical-align: top;\n",
       "    }\n",
       "\n",
       "    .dataframe thead th {\n",
       "        text-align: right;\n",
       "    }\n",
       "</style>\n",
       "<table border=\"1\" class=\"dataframe\">\n",
       "  <thead>\n",
       "    <tr style=\"text-align: right;\">\n",
       "      <th></th>\n",
       "      <th>Sugary Drinks (Yes)</th>\n",
       "      <th>Sugary Drinks (No)</th>\n",
       "    </tr>\n",
       "    <tr>\n",
       "      <th>Physical Activity</th>\n",
       "      <th></th>\n",
       "      <th></th>\n",
       "    </tr>\n",
       "  </thead>\n",
       "  <tbody>\n",
       "    <tr>\n",
       "      <th>Low</th>\n",
       "      <td>32</td>\n",
       "      <td>12</td>\n",
       "    </tr>\n",
       "    <tr>\n",
       "      <th>Medium</th>\n",
       "      <td>14</td>\n",
       "      <td>22</td>\n",
       "    </tr>\n",
       "    <tr>\n",
       "      <th>High</th>\n",
       "      <td>6</td>\n",
       "      <td>9</td>\n",
       "    </tr>\n",
       "  </tbody>\n",
       "</table>\n",
       "</div>"
      ],
      "text/plain": [
       "                   Sugary Drinks (Yes)  Sugary Drinks (No)\n",
       "Physical Activity                                         \n",
       "Low                                 32                  12\n",
       "Medium                              14                  22\n",
       "High                                 6                   9"
      ]
     },
     "metadata": {},
     "output_type": "display_data"
    }
   ],
   "source": [
    "# Create the contingency table with labels\n",
    "data = {\n",
    "    'Sugary Drinks (Yes)': [32, 14, 6],\n",
    "    'Sugary Drinks (No)': [12, 22, 9]\n",
    "}\n",
    "\n",
    "# Create DataFrame with proper row labels\n",
    "df = pd.DataFrame(data,\n",
    "                 index=['Low', 'Medium', 'High'])\n",
    "df.index.name = 'Physical Activity'\n",
    "\n",
    "print(\"Contingency Table:\")\n",
    "display(df)"
   ]
  },
  {
   "cell_type": "code",
   "execution_count": 17,
   "metadata": {},
   "outputs": [
    {
     "name": "stdout",
     "output_type": "stream",
     "text": [
      "\n",
      "Chi-square statistic: 10.71\n",
      "P-value: 0.0047\n",
      "Degrees of freedom: 2\n",
      "Expected frequencies:\n",
      "[[24.08421053 19.91578947]\n",
      " [19.70526316 16.29473684]\n",
      " [ 8.21052632  6.78947368]]\n"
     ]
    }
   ],
   "source": [
    "from scipy.stats import chi2_contingency\n",
    "chi2_stat, p_value, dof, expected = chi2_contingency(df)\n",
    "\n",
    "print(f\"\\nChi-square statistic: {chi2_stat:.2f}\")\n",
    "print(f\"P-value: {p_value:.4f}\")\n",
    "print(f\"Degrees of freedom: {dof}\")\n",
    "print(\"Expected frequencies:\")\n",
    "print(expected)"
   ]
  },
  {
   "cell_type": "markdown",
   "metadata": {},
   "source": [
    "## [OPTIONAL] Question 2\n",
    "The following table indicates the number of 6-point scores in an American rugby match in the 1979 season.\n",
    "\n",
    "![](https://education-team-2020.s3.eu-west-1.amazonaws.com/ds-ai/lab-goodness-of-fit/table1.png)\n",
    "\n",
    "Based on these results, we create a Poisson distribution with the sample mean parameter  = 2.435. Is there any reason to believe that at a .05 level the number of scores is a Poisson variable?\n",
    "\n",
    "Check [here](https://www.geeksforgeeks.org/how-to-create-a-poisson-probability-mass-function-plot-in-python/) how to create a poisson distribution and how to calculate the expected observations, using the probability mass function (pmf). \n",
    "A Poisson distribution is a discrete probability distribution. It gives the probability of an event happening a certain number of times (k) within a given interval of time or space. The Poisson distribution has only one parameter, λ (lambda), which is the mean number of events."
   ]
  },
  {
   "cell_type": "code",
   "execution_count": 24,
   "metadata": {},
   "outputs": [
    {
     "data": {
      "text/html": [
       "<div>\n",
       "<style scoped>\n",
       "    .dataframe tbody tr th:only-of-type {\n",
       "        vertical-align: middle;\n",
       "    }\n",
       "\n",
       "    .dataframe tbody tr th {\n",
       "        vertical-align: top;\n",
       "    }\n",
       "\n",
       "    .dataframe thead th {\n",
       "        text-align: right;\n",
       "    }\n",
       "</style>\n",
       "<table border=\"1\" class=\"dataframe\">\n",
       "  <thead>\n",
       "    <tr style=\"text-align: right;\">\n",
       "      <th></th>\n",
       "      <th>Number of Scores (k)</th>\n",
       "      <th>Observed Matches</th>\n",
       "    </tr>\n",
       "  </thead>\n",
       "  <tbody>\n",
       "    <tr>\n",
       "      <th>0</th>\n",
       "      <td>0</td>\n",
       "      <td>35</td>\n",
       "    </tr>\n",
       "    <tr>\n",
       "      <th>1</th>\n",
       "      <td>1</td>\n",
       "      <td>99</td>\n",
       "    </tr>\n",
       "    <tr>\n",
       "      <th>2</th>\n",
       "      <td>2</td>\n",
       "      <td>104</td>\n",
       "    </tr>\n",
       "    <tr>\n",
       "      <th>3</th>\n",
       "      <td>3</td>\n",
       "      <td>110</td>\n",
       "    </tr>\n",
       "    <tr>\n",
       "      <th>4</th>\n",
       "      <td>4</td>\n",
       "      <td>62</td>\n",
       "    </tr>\n",
       "    <tr>\n",
       "      <th>5</th>\n",
       "      <td>5</td>\n",
       "      <td>25</td>\n",
       "    </tr>\n",
       "    <tr>\n",
       "      <th>6</th>\n",
       "      <td>6</td>\n",
       "      <td>10</td>\n",
       "    </tr>\n",
       "    <tr>\n",
       "      <th>7</th>\n",
       "      <td>7 or more</td>\n",
       "      <td>3</td>\n",
       "    </tr>\n",
       "  </tbody>\n",
       "</table>\n",
       "</div>"
      ],
      "text/plain": [
       "  Number of Scores (k)  Observed Matches\n",
       "0                    0                35\n",
       "1                    1                99\n",
       "2                    2               104\n",
       "3                    3               110\n",
       "4                    4                62\n",
       "5                    5                25\n",
       "6                    6                10\n",
       "7            7 or more                 3"
      ]
     },
     "metadata": {},
     "output_type": "display_data"
    }
   ],
   "source": [
    "# your answer here\n",
    "from scipy.stats import poisson, chisquare\n",
    "\n",
    "# Create a dictionary with the data\n",
    "data = {\n",
    "    'Number of Scores (k)': [0, 1, 2, 3, 4, 5, 6, '7 or more'],\n",
    "    'Observed Matches': [35, 99, 104, 110, 62, 25, 10, 3] \n",
    "}\n",
    "\n",
    "# Create DataFrame\n",
    "df = pd.DataFrame(data)\n",
    "display(df)"
   ]
  },
  {
   "cell_type": "code",
   "execution_count": 27,
   "metadata": {},
   "outputs": [
    {
     "data": {
      "text/html": [
       "<div>\n",
       "<style scoped>\n",
       "    .dataframe tbody tr th:only-of-type {\n",
       "        vertical-align: middle;\n",
       "    }\n",
       "\n",
       "    .dataframe tbody tr th {\n",
       "        vertical-align: top;\n",
       "    }\n",
       "\n",
       "    .dataframe thead th {\n",
       "        text-align: right;\n",
       "    }\n",
       "</style>\n",
       "<table border=\"1\" class=\"dataframe\">\n",
       "  <thead>\n",
       "    <tr style=\"text-align: right;\">\n",
       "      <th></th>\n",
       "      <th>Number of Scores (k)</th>\n",
       "      <th>Observed Matches</th>\n",
       "      <th>Expected Matches</th>\n",
       "    </tr>\n",
       "  </thead>\n",
       "  <tbody>\n",
       "    <tr>\n",
       "      <th>0</th>\n",
       "      <td>0</td>\n",
       "      <td>35</td>\n",
       "      <td>39.24</td>\n",
       "    </tr>\n",
       "    <tr>\n",
       "      <th>1</th>\n",
       "      <td>1</td>\n",
       "      <td>99</td>\n",
       "      <td>95.56</td>\n",
       "    </tr>\n",
       "    <tr>\n",
       "      <th>2</th>\n",
       "      <td>2</td>\n",
       "      <td>104</td>\n",
       "      <td>116.34</td>\n",
       "    </tr>\n",
       "    <tr>\n",
       "      <th>3</th>\n",
       "      <td>3</td>\n",
       "      <td>110</td>\n",
       "      <td>94.43</td>\n",
       "    </tr>\n",
       "    <tr>\n",
       "      <th>4</th>\n",
       "      <td>4</td>\n",
       "      <td>62</td>\n",
       "      <td>57.49</td>\n",
       "    </tr>\n",
       "    <tr>\n",
       "      <th>5</th>\n",
       "      <td>5</td>\n",
       "      <td>25</td>\n",
       "      <td>28.00</td>\n",
       "    </tr>\n",
       "    <tr>\n",
       "      <th>6</th>\n",
       "      <td>6</td>\n",
       "      <td>10</td>\n",
       "      <td>11.36</td>\n",
       "    </tr>\n",
       "    <tr>\n",
       "      <th>7</th>\n",
       "      <td>7 or more</td>\n",
       "      <td>3</td>\n",
       "      <td>5.58</td>\n",
       "    </tr>\n",
       "  </tbody>\n",
       "</table>\n",
       "</div>"
      ],
      "text/plain": [
       "  Number of Scores (k)  Observed Matches  Expected Matches\n",
       "0                    0                35             39.24\n",
       "1                    1                99             95.56\n",
       "2                    2               104            116.34\n",
       "3                    3               110             94.43\n",
       "4                    4                62             57.49\n",
       "5                    5                25             28.00\n",
       "6                    6                10             11.36\n",
       "7            7 or more                 3              5.58"
      ]
     },
     "metadata": {},
     "output_type": "display_data"
    }
   ],
   "source": [
    "# Observed data from your DataFrame\n",
    "observed = df['Observed Matches'].values  # [35, 99, 104, 110, 62, 25, 10, 3]\n",
    "total_matches = observed.sum()  # Total matches = 35+99+104+110+62+25+10+3 = 448\n",
    "lambda_ = 2.435  # Given mean\n",
    "\n",
    "# Compute Poisson probabilities for k=0 to 6\n",
    "k_values = np.arange(0, 7)  # 0,1,2,3,4,5,6\n",
    "poisson_probs = poisson.pmf(k_values, mu=lambda_)\n",
    "\n",
    "\n",
    "# For k ≥7, compute cumulative probability\n",
    "prob_7_or_more = 1 - poisson_probs.sum()\n",
    "poisson_probs = np.append(poisson_probs, prob_7_or_more)\n",
    "\n",
    "# Calculate expected frequencies\n",
    "expected = poisson_probs * total_matches\n",
    "\n",
    "# Update DataFrame\n",
    "df['Expected Matches'] = np.round(expected, 2)\n",
    "display(df)"
   ]
  },
  {
   "cell_type": "code",
   "execution_count": 28,
   "metadata": {},
   "outputs": [
    {
     "name": "stdout",
     "output_type": "stream",
     "text": [
      "Expected frequencies: [ 39.24  95.56 116.34  94.43  57.49  28.    11.36   5.58]\n"
     ]
    }
   ],
   "source": [
    "print(\"Expected frequencies:\", df['Expected Matches'].values)"
   ]
  },
  {
   "cell_type": "code",
   "execution_count": 30,
   "metadata": {},
   "outputs": [],
   "source": [
    "# Combine k=5,6,7+ if needed\n",
    "observed_combined = [\n",
    "    df['Observed Matches'].iloc[0],  # k=0\n",
    "    df['Observed Matches'].iloc[1],  # k=1\n",
    "    df['Observed Matches'].iloc[2],  # k=2\n",
    "    df['Observed Matches'].iloc[3],  # k=3\n",
    "    df['Observed Matches'].iloc[4],  # k=4\n",
    "    df['Observed Matches'].iloc[5] + df['Observed Matches'].iloc[6] + df['Observed Matches'].iloc[7]  # k=5+\n",
    "]\n",
    "\n",
    "expected_combined = [\n",
    "    df['Expected Matches'].iloc[0],  # k=0\n",
    "    df['Expected Matches'].iloc[1],  # k=1\n",
    "    df['Expected Matches'].iloc[2],  # k=2\n",
    "    df['Expected Matches'].iloc[3],  # k=3\n",
    "    df['Expected Matches'].iloc[4],  # k=4\n",
    "    df['Expected Matches'].iloc[5] + df['Expected Matches'].iloc[6] + df['Expected Matches'].iloc[7]  # k=5+\n",
    "]"
   ]
  },
  {
   "cell_type": "code",
   "execution_count": 31,
   "metadata": {},
   "outputs": [
    {
     "name": "stdout",
     "output_type": "stream",
     "text": [
      "Chi-square statistic: 5.88\n",
      "P-value: 0.3177\n",
      "Degrees of freedom: 5\n"
     ]
    }
   ],
   "source": [
    "# Perform Chi-Square test\n",
    "chi2_stat, p_value = chisquare(f_obs=observed_combined, f_exp=expected_combined)\n",
    "\n",
    "# Degrees of freedom = (number of categories after merging) - 1 - (parameters estimated)\n",
    "# Since λ was given (not estimated), subtract 0\n",
    "df_degrees = len(observed_combined) - 1\n",
    "\n",
    "print(f\"Chi-square statistic: {chi2_stat:.2f}\")\n",
    "print(f\"P-value: {p_value:.4f}\")\n",
    "print(f\"Degrees of freedom: {df_degrees}\")"
   ]
  },
  {
   "cell_type": "code",
   "execution_count": 32,
   "metadata": {},
   "outputs": [
    {
     "name": "stdout",
     "output_type": "stream",
     "text": [
      "\n",
      "--- Chi-Square Goodness-of-Fit Test Conclusion ---\n",
      "Chi-square statistic: 5.88\n",
      "P-value: 0.3177\n",
      "\n",
      "At a 5.0% significance level:\n",
      "Fail to reject the null hypothesis (H₀).\n",
      "Conclusion: The number of scores is consistent with a Poisson distribution with λ = 2.435.\n"
     ]
    }
   ],
   "source": [
    " # Assuming you already have these values from the test:\n",
    "# chi2_stat = 5.88  # Replace with your actual chi-square statistic\n",
    "# p_value = 0.3177   # Replace with your actual p-value\n",
    "alpha = 0.05        # Significance level\n",
    "\n",
    "print(\"\\n--- Chi-Square Goodness-of-Fit Test Conclusion ---\")\n",
    "print(f\"Chi-square statistic: {chi2_stat:.2f}\")\n",
    "print(f\"P-value: {p_value:.4f}\")\n",
    "\n",
    "if p_value < alpha:\n",
    "    print(f\"\\nAt a {alpha*100}% significance level:\")\n",
    "    print(\"Reject the null hypothesis (H₀).\")\n",
    "    print(\"Conclusion: The number of scores does NOT follow a Poisson distribution with λ = 2.435.\")\n",
    "else:\n",
    "    print(f\"\\nAt a {alpha*100}% significance level:\")\n",
    "    print(\"Fail to reject the null hypothesis (H₀).\")\n",
    "    print(\"Conclusion: The number of scores is consistent with a Poisson distribution with λ = 2.435.\")"
   ]
  }
 ],
 "metadata": {
  "kernelspec": {
   "display_name": "datasci_env",
   "language": "python",
   "name": "python3"
  },
  "language_info": {
   "codemirror_mode": {
    "name": "ipython",
    "version": 3
   },
   "file_extension": ".py",
   "mimetype": "text/x-python",
   "name": "python",
   "nbconvert_exporter": "python",
   "pygments_lexer": "ipython3",
   "version": "3.8.20"
  }
 },
 "nbformat": 4,
 "nbformat_minor": 2
}
